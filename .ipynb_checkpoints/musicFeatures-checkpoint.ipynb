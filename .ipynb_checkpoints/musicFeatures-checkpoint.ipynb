{
 "cells": [
  {
   "cell_type": "code",
   "execution_count": 1,
   "metadata": {
    "collapsed": false
   },
   "outputs": [
    {
     "name": "stderr",
     "output_type": "stream",
     "text": [
      "C:\\Users\\priya\\Anaconda2\\lib\\site-packages\\librosa\\core\\audio.py:37: UserWarning: Could not import scikits.samplerate. Falling back to scipy.signal\n",
      "  warnings.warn('Could not import scikits.samplerate. '\n",
      "C:\\Users\\priya\\Anaconda2\\lib\\site-packages\\librosa\\core\\audio.py:37: UserWarning: Could not import scikits.samplerate. Falling back to scipy.signal\n",
      "  warnings.warn('Could not import scikits.samplerate. '\n"
     ]
    }
   ],
   "source": [
    "import pandas as pd\n",
    "import numpy as np\n",
    "import librosa\n",
    "from os import listdir\n",
    "import os\n",
    "import sys\n",
    "import matplotlib.pyplot as plt\n",
    "%matplotlib inline\n",
    "import scipy"
   ]
  },
  {
   "cell_type": "code",
   "execution_count": 58,
   "metadata": {
    "collapsed": true
   },
   "outputs": [],
   "source": [
    "path = 'C:\\Users\\priya\\OneDrive\\Documents\\PassionProjects\\ColdplayClusters\\CC/'\n",
    "filenames = os.listdir(path)"
   ]
  },
  {
   "cell_type": "code",
   "execution_count": 59,
   "metadata": {
    "collapsed": false,
    "scrolled": false
   },
   "outputs": [
    {
     "data": {
      "text/plain": [
       "['42.wav',\n",
       " 'AdventureOfALifetime.wav',\n",
       " 'AHeadFullOfDreams.wav',\n",
       " 'AmazingDay.wav',\n",
       " 'AMessage.wav',\n",
       " 'Amsterdam.wav',\n",
       " 'AnothersArms.wav',\n",
       " 'ArmyOfOne.wav',\n",
       " 'ARushOfBloodToTheHead.wav',\n",
       " 'ASkyFullOfStars.wav',\n",
       " 'AWhisper.wav',\n",
       " 'Birds.wav',\n",
       " 'CemeteriesOfLondon.wav',\n",
       " 'CharlieBrown.wav',\n",
       " 'Clocks.wav',\n",
       " 'Daylight.wav',\n",
       " 'DeathAndAllHisFriends.wav',\n",
       " \"Don'tPanic_Singles.wav\",\n",
       " 'DontLetItBreakYourHeart.wav',\n",
       " 'Everglow.wav',\n",
       " 'EveryTeardropIsAWaterfall.wav',\n",
       " 'EverythingsNotLost.wav',\n",
       " 'FixYou_Singles.wav',\n",
       " 'Fun.wav',\n",
       " 'GodPutASmileUponYourFace.wav',\n",
       " 'GreenEyes.wav',\n",
       " 'HighSpeed.wav',\n",
       " 'HurtsLikeHeaven.wav',\n",
       " 'HymnForTheWeekend.wav',\n",
       " 'Ink.wav',\n",
       " 'InMyPlace.wav',\n",
       " 'Kaleidoscope.wav',\n",
       " 'LifeInTechnicolorII.wav',\n",
       " 'Lost.wav',\n",
       " 'LoversInJapan.wav',\n",
       " 'Low.wav',\n",
       " 'Magic.wav',\n",
       " 'MajorMinus.wav',\n",
       " 'Midnight.wav',\n",
       " 'Oceans.wav',\n",
       " 'Parachutes.wav',\n",
       " 'Paradise.wav',\n",
       " 'Politik.wav',\n",
       " 'PrincessOfChina.wav',\n",
       " 'Shiver_Singles.wav',\n",
       " 'Sparks.wav',\n",
       " 'SpeedOfSound.wav',\n",
       " 'Spies.wav',\n",
       " 'SquareOne.wav',\n",
       " 'StrawberrySwing.wav',\n",
       " 'SwallowedInTheSea.wav',\n",
       " 'Talk_Singles.wav',\n",
       " 'TheHardestPart_Singles.wav',\n",
       " 'TheScientist.wav',\n",
       " 'TilKingdomCome.wav',\n",
       " 'Trouble_Singles.wav',\n",
       " 'TrueLove.wav',\n",
       " 'TwistedLogic.wav',\n",
       " 'UFO.wav',\n",
       " 'UpAndUp.wav',\n",
       " 'UpInFlames.wav',\n",
       " 'UpWithTheBirds.wav',\n",
       " 'UsAgainstTheWorld.wav',\n",
       " 'VioletHill.wav',\n",
       " 'VivaLaVida.wav',\n",
       " 'WarningSign.wav',\n",
       " 'WeNeverChange.wav',\n",
       " 'WhatIf.wav',\n",
       " 'WhiteShadows.wav',\n",
       " 'X&Y.wav',\n",
       " 'XMarksTheSpot.wav',\n",
       " 'Yellow_Singles.wav',\n",
       " 'Yes.wav']"
      ]
     },
     "execution_count": 59,
     "metadata": {},
     "output_type": "execute_result"
    }
   ],
   "source": [
    "filenames"
   ]
  },
  {
   "cell_type": "code",
   "execution_count": 18,
   "metadata": {
    "collapsed": false
   },
   "outputs": [
    {
     "name": "stdout",
     "output_type": "stream",
     "text": [
      "['mean0', 'mean1', 'mean2', 'mean3', 'mean4', 'mean5', 'mean6', 'mean7', 'mean8', 'mean9', 'mean10', 'mean11', 'mean12', 'mean13', 'mean14', 'mean15', 'mean16', 'mean17', 'mean18', 'mean19']\n",
      "['mean0', 'mean1', 'mean2', 'mean3', 'mean4', 'mean5', 'mean6', 'mean7', 'mean8', 'mean9', 'mean10', 'mean11', 'mean12', 'mean13', 'mean14', 'mean15', 'mean16', 'mean17', 'mean18', 'mean19']\n"
     ]
    }
   ],
   "source": [
    "cols = []\n",
    "for sum_key in ['mean']:#,'var','median','min','max','kurtosis','mean_diff','var_diff']:\n",
    "    for i in range(20):\n",
    "        cols+=[sum_key+str(i)]\n",
    "\n",
    "print cols    "
   ]
  },
  {
   "cell_type": "code",
   "execution_count": 19,
   "metadata": {
    "collapsed": true
   },
   "outputs": [],
   "source": [
    "train = pd.DataFrame(index=range(len(filenames)),columns = cols)\n",
    "train = train.fillna(0)"
   ]
  },
  {
   "cell_type": "code",
   "execution_count": 20,
   "metadata": {
    "collapsed": false
   },
   "outputs": [
    {
     "name": "stdout",
     "output_type": "stream",
     "text": [
      "['0', '1', '2', '3', '4', '5', '6', '7', '8', '9', '10', '11', '12', '13', '14', '15', '16', '17', '18', '19']\n",
      "['0', '1', '2', '3', '4', '5', '6', '7', '8', '9', '10', '11', '12', '13', '14', '15', '16', '17', '18', '19']\n"
     ]
    }
   ],
   "source": [
    "lst = map(lambda x:str(x),range(20))\n",
    "print lst"
   ]
  },
  {
   "cell_type": "code",
   "execution_count": 14,
   "metadata": {
    "collapsed": false
   },
   "outputs": [],
   "source": [
    "filename = path+filenames[1]\n",
    "y, sr = librosa.core.load(filename)\n",
    "tempo, beat_frames = librosa.beat.beat_track(y=y, sr=sr)\n",
    "S = librosa.feature.melspectrogram(y=y, n_mels=40,fmin=0,\n",
    "                               fmax= 22050)\n",
    "mfccs = librosa.feature.mfcc(S=librosa.logamplitude(S))"
   ]
  },
  {
   "cell_type": "code",
   "execution_count": 90,
   "metadata": {
    "collapsed": false
   },
   "outputs": [],
   "source": [
    "tempoList = []\n",
    "for l in range(len(filenames)):\n",
    "    #print l,'l'\n",
    "    try:\n",
    "        filename = path+filenames[l]\n",
    "        #loading format\n",
    "        y, sr = librosa.core.load(filename)\n",
    "        #tempo\n",
    "        tempo, beat_frames = librosa.beat.beat_track(y=y, sr=sr)\n",
    "        #mfccs\n",
    "        S = librosa.feature.melspectrogram(y=y, n_mels=40,fmin=0,\n",
    "                                       fmax= 22050)\n",
    "        mfccs = librosa.feature.mfcc(S=librosa.logamplitude(S))\n",
    "        \n",
    "        tempoList.append(tempo)\n",
    "        i = 0\n",
    "        for ind in mfccs:\n",
    "            \n",
    "            train1.loc[l,'mean'+str(i)] = np.mean(ind)\n",
    "\n",
    "            i = i+1\n",
    "          \n",
    "            \n",
    "    except:\n",
    "        pass\n",
    "\n",
    "            \n",
    "            \n",
    "train['tempo'] = tempoList\n",
    "train['songs'] = map(lambda x: x.replace('.wav',''),filenames)\n",
    "train.to_csv(\"musicFeatues.csv\")\n"
   ]
  },
  {
   "cell_type": "code",
   "execution_count": 109,
   "metadata": {
    "collapsed": false
   },
   "outputs": [],
   "source": [
    "train = train.drop('index', axis=1, inplace=True)"
   ]
  }
 ],
 "metadata": {
  "kernelspec": {
   "display_name": "Python 2",
   "language": "python",
   "name": "python2"
  },
  "language_info": {
   "codemirror_mode": {
    "name": "ipython",
    "version": 2
   },
   "file_extension": ".py",
   "mimetype": "text/x-python",
   "name": "python",
   "nbconvert_exporter": "python",
   "pygments_lexer": "ipython2",
   "version": "2.7.11"
  }
 },
 "nbformat": 4,
 "nbformat_minor": 0
}
